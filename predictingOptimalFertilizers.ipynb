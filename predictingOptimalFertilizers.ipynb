{
 "cells": [
  {
   "cell_type": "markdown",
   "id": "3181ea3c",
   "metadata": {
    "_cell_guid": "966d1b4b-4ad9-45db-a874-531f2c0f64d9",
    "_uuid": "eab305a7-7b4f-4de4-b01d-afac9de79ca4",
    "collapsed": false,
    "jupyter": {
     "outputs_hidden": false
    },
    "papermill": {
     "duration": 0.004609,
     "end_time": "2025-06-20T19:07:33.212796",
     "exception": false,
     "start_time": "2025-06-20T19:07:33.208187",
     "status": "completed"
    },
    "tags": []
   },
   "source": [
    "# Final Project DTSA 5511 Introduction to Deep Learning - Predicting Optimal Fertilizers\n",
    "\n",
    "This notebook provides a solution for the Predicting Optimal Fertilizers Kaggle competition, developed as a final project for the Deep Learning course at CU Boulder. It includes a problem explanation, exploratory data analysis (EDA), data preprocessing, model building with hyperparameter tuning, results analysis, and a conclusion.\n",
    "\n",
    "## 1. Deep Learning Problem Description\n",
    "\n",
    "This project addresses a multiclass classification problem from the Kaggle Playground Series - Season 5, Episode 6. The objective is to predict the optimal 'Fertilizer Name' based on various agricultural features such as temperature, humidity, soil moisture, and nutrient levels (Nitrogen, Phosphorus, Potassium).\n",
    "\n",
    "**Business Context / Real-World Application:**\n",
    "Accurate prediction of the most suitable fertilizer type for specific crop and environmental conditions is crucial for optimizing agricultural yield, minimizing waste, reducing environmental impact from over-fertilization, and improving overall farm efficiency. This model can serve as a decision-support tool for farmers, enabling them to make data-driven choices about fertilizer application.\n",
    "\n",
    "**Dataset Source:**\n",
    "The dataset is provided by the Kaggle Playground Series, a platform designed to help data scientists practice their skills on real-world-like problems."
   ]
  },
  {
   "cell_type": "code",
   "execution_count": 1,
   "id": "64542044",
   "metadata": {
    "_cell_guid": "ffc8c07a-7f2a-4297-b08c-0aa7cc4cf490",
    "_uuid": "c3248e65-0afe-4bab-b44c-4720c44f6550",
    "collapsed": false,
    "execution": {
     "iopub.execute_input": "2025-06-20T19:07:33.221989Z",
     "iopub.status.busy": "2025-06-20T19:07:33.221355Z",
     "iopub.status.idle": "2025-06-20T19:07:49.247672Z",
     "shell.execute_reply": "2025-06-20T19:07:49.246571Z"
    },
    "jupyter": {
     "outputs_hidden": false
    },
    "papermill": {
     "duration": 16.032807,
     "end_time": "2025-06-20T19:07:49.249493",
     "exception": false,
     "start_time": "2025-06-20T19:07:33.216686",
     "status": "completed"
    },
    "tags": []
   },
   "outputs": [
    {
     "name": "stderr",
     "output_type": "stream",
     "text": [
      "2025-06-20 19:07:37.616763: E external/local_xla/xla/stream_executor/cuda/cuda_fft.cc:477] Unable to register cuFFT factory: Attempting to register factory for plugin cuFFT when one has already been registered\n",
      "WARNING: All log messages before absl::InitializeLog() is called are written to STDERR\n",
      "E0000 00:00:1750446457.788594      19 cuda_dnn.cc:8310] Unable to register cuDNN factory: Attempting to register factory for plugin cuDNN when one has already been registered\n",
      "E0000 00:00:1750446457.838905      19 cuda_blas.cc:1418] Unable to register cuBLAS factory: Attempting to register factory for plugin cuBLAS when one has already been registered\n"
     ]
    }
   ],
   "source": [
    "import pandas as pd\n",
    "import numpy as np\n",
    "import matplotlib.pyplot as plt\n",
    "import seaborn as sns\n",
    "import os\n",
    "import tensorflow as tf\n",
    "from sklearn.model_selection import StratifiedKFold\n",
    "from sklearn.preprocessing import LabelEncoder, StandardScaler, OneHotEncoder\n",
    "from sklearn.compose import ColumnTransformer\n",
    "from tensorflow.keras.models import Sequential\n",
    "from tensorflow.keras.layers import Dense, Dropout\n",
    "from tensorflow.keras.callbacks import EarlyStopping, ReduceLROnPlateau"
   ]
  },
  {
   "cell_type": "markdown",
   "id": "64ec928a",
   "metadata": {
    "_cell_guid": "bdc804be-a0c3-479a-b970-174f285feeaf",
    "_uuid": "05c65e20-cce5-4c60-b84b-6f4b4184f203",
    "collapsed": false,
    "jupyter": {
     "outputs_hidden": false
    },
    "papermill": {
     "duration": 0.007579,
     "end_time": "2025-06-20T19:07:49.266991",
     "exception": false,
     "start_time": "2025-06-20T19:07:49.259412",
     "status": "completed"
    },
    "tags": []
   },
   "source": [
    "## 2. EDA"
   ]
  },
  {
   "cell_type": "code",
   "execution_count": 2,
   "id": "9c5ce3b4",
   "metadata": {
    "_cell_guid": "26a95d08-0eb3-4d25-83d0-91a10a4766f3",
    "_uuid": "1d202a00-0a29-427b-acc9-c595df9184ae",
    "collapsed": false,
    "execution": {
     "iopub.execute_input": "2025-06-20T19:07:49.286921Z",
     "iopub.status.busy": "2025-06-20T19:07:49.286134Z",
     "iopub.status.idle": "2025-06-20T19:07:50.877136Z",
     "shell.execute_reply": "2025-06-20T19:07:50.876286Z"
    },
    "jupyter": {
     "outputs_hidden": false
    },
    "papermill": {
     "duration": 1.60319,
     "end_time": "2025-06-20T19:07:50.878559",
     "exception": false,
     "start_time": "2025-06-20T19:07:49.275369",
     "status": "completed"
    },
    "tags": []
   },
   "outputs": [
    {
     "name": "stdout",
     "output_type": "stream",
     "text": [
      "Data loaded successfully from directory.\n",
      "\n",
      "--- Train DataFrame Head: ---\n",
      "   id  Temparature  Humidity  Moisture Soil Type  Crop Type  Nitrogen  \\\n",
      "0   0           37        70        36    Clayey  Sugarcane        36   \n",
      "1   1           27        69        65     Sandy    Millets        30   \n",
      "2   2           29        63        32     Sandy    Millets        24   \n",
      "3   3           35        62        54     Sandy     Barley        39   \n",
      "4   4           35        58        43       Red      Paddy        37   \n",
      "\n",
      "   Potassium  Phosphorous Fertilizer Name  \n",
      "0          4            5           28-28  \n",
      "1          6           18           28-28  \n",
      "2         12           16        17-17-17  \n",
      "3         12            4        10-26-26  \n",
      "4          2           16             DAP  \n",
      "\n",
      "--- Test DataFrame Head: ---\n",
      "       id  Temparature  Humidity  Moisture Soil Type    Crop Type  Nitrogen  \\\n",
      "0  750000           31        70        52     Sandy        Wheat        34   \n",
      "1  750001           27        62        45       Red    Sugarcane        30   \n",
      "2  750002           28        72        28    Clayey  Ground Nuts        14   \n",
      "3  750003           37        53        57     Black  Ground Nuts        18   \n",
      "4  750004           31        55        32       Red       Pulses        13   \n",
      "\n",
      "   Potassium  Phosphorous  \n",
      "0         11           24  \n",
      "1         14           15  \n",
      "2         15            4  \n",
      "3         17           36  \n",
      "4         19           14  \n",
      "\n",
      "--- Train DataFrame Descriptive Statistics: ---\n",
      "                  id    Temparature       Humidity       Moisture  \\\n",
      "count  750000.000000  750000.000000  750000.000000  750000.000000   \n",
      "mean   374999.500000      31.503565      61.038912      45.184147   \n",
      "std    216506.495284       4.025574       6.647695      11.794594   \n",
      "min         0.000000      25.000000      50.000000      25.000000   \n",
      "25%    187499.750000      28.000000      55.000000      35.000000   \n",
      "50%    374999.500000      32.000000      61.000000      45.000000   \n",
      "75%    562499.250000      35.000000      67.000000      55.000000   \n",
      "max    749999.000000      38.000000      72.000000      65.000000   \n",
      "\n",
      "            Nitrogen      Potassium    Phosphorous  \n",
      "count  750000.000000  750000.000000  750000.000000  \n",
      "mean       23.093808       9.478296      21.073227  \n",
      "std        11.216125       5.765622      12.346831  \n",
      "min         4.000000       0.000000       0.000000  \n",
      "25%        13.000000       4.000000      10.000000  \n",
      "50%        23.000000       9.000000      21.000000  \n",
      "75%        33.000000      14.000000      32.000000  \n",
      "max        42.000000      19.000000      42.000000  \n",
      "\n",
      "--- Test DataFrame Descriptive Statistics: ---\n",
      "                  id    Temparature       Humidity       Moisture  \\\n",
      "count  250000.000000  250000.000000  250000.000000  250000.000000   \n",
      "mean   874999.500000      31.491648      61.045120      45.190444   \n",
      "std     72168.927986       4.024093       6.636372      11.793167   \n",
      "min    750000.000000      25.000000      50.000000      25.000000   \n",
      "25%    812499.750000      28.000000      55.000000      35.000000   \n",
      "50%    874999.500000      31.000000      61.000000      45.000000   \n",
      "75%    937499.250000      35.000000      67.000000      55.000000   \n",
      "max    999999.000000      38.000000      72.000000      65.000000   \n",
      "\n",
      "            Nitrogen      Potassium   Phosphorous  \n",
      "count  250000.000000  250000.000000  250000.00000  \n",
      "mean       23.139612       9.487764      21.12206  \n",
      "std        11.215956       5.766860      12.38087  \n",
      "min         4.000000       0.000000       0.00000  \n",
      "25%        13.000000       4.000000      10.00000  \n",
      "50%        23.000000      10.000000      21.00000  \n",
      "75%        33.000000      14.000000      32.00000  \n",
      "max        42.000000      19.000000      42.00000  \n",
      "\n",
      "--- Missing values in Train DataFrame: ---\n",
      "id                 0\n",
      "Temparature        0\n",
      "Humidity           0\n",
      "Moisture           0\n",
      "Soil Type          0\n",
      "Crop Type          0\n",
      "Nitrogen           0\n",
      "Potassium          0\n",
      "Phosphorous        0\n",
      "Fertilizer Name    0\n",
      "dtype: int64\n",
      "\n",
      "--- Missing values in Test DataFrame: ---\n",
      "id             0\n",
      "Temparature    0\n",
      "Humidity       0\n",
      "Moisture       0\n",
      "Soil Type      0\n",
      "Crop Type      0\n",
      "Nitrogen       0\n",
      "Potassium      0\n",
      "Phosphorous    0\n",
      "dtype: int64\n"
     ]
    }
   ],
   "source": [
    "# Data Loading\n",
    "data_dir = '/kaggle/input/playground-series-s5e6/'\n",
    "try:\n",
    "    train_df = pd.read_csv(os.path.join(data_dir, 'train.csv'))\n",
    "    test_df = pd.read_csv(os.path.join(data_dir, 'test.csv'))\n",
    "    sample_submission_df = pd.read_csv(os.path.join(data_dir, 'sample_submission.csv'))\n",
    "    print(\"Data loaded successfully from directory.\")\n",
    "except FileNotFoundError:\n",
    "    print(\"Error: Data files not found. Please ensure 'train.csv', 'test.csv', and 'sample_submission.csv' are in the directory.\")\n",
    "    exit()\n",
    "\n",
    "print(\"\\n--- Train DataFrame Head: ---\")\n",
    "print(train_df.head())\n",
    "print(\"\\n--- Test DataFrame Head: ---\")\n",
    "print(test_df.head())\n",
    "\n",
    "# Summaries\n",
    "print(\"\\n--- Train DataFrame Descriptive Statistics: ---\")\n",
    "print(train_df.describe())\n",
    "print(\"\\n--- Test DataFrame Descriptive Statistics: ---\")\n",
    "print(test_df.describe())\n",
    "\n",
    "# Missing Values\n",
    "print(\"\\n--- Missing values in Train DataFrame: ---\")\n",
    "print(train_df.isnull().sum())\n",
    "print(\"\\n--- Missing values in Test DataFrame: ---\")\n",
    "print(test_df.isnull().sum())"
   ]
  },
  {
   "cell_type": "markdown",
   "id": "bab298c8",
   "metadata": {
    "_cell_guid": "9135075d-8982-42dc-b0f8-14d82dbed3a9",
    "_uuid": "01a68f48-2ce6-4991-85da-617c71b64b97",
    "collapsed": false,
    "jupyter": {
     "outputs_hidden": false
    },
    "papermill": {
     "duration": 0.003888,
     "end_time": "2025-06-20T19:07:50.886697",
     "exception": false,
     "start_time": "2025-06-20T19:07:50.882809",
     "status": "completed"
    },
    "tags": []
   },
   "source": [
    "### Missing Value Handling Strategy:\n",
    "For this dataset, it appears there are no missing values based on initial checks. If there were, a common strategy for numerical features might be mean/median imputation and for categorical features, mode imputation or a dedicated 'missing' category. Given no missing values, no specific handling is required at this stage.\n",
    "\n",
    "### Check Feature Distributions"
   ]
  },
  {
   "cell_type": "code",
   "execution_count": 3,
   "id": "5a349237",
   "metadata": {
    "_cell_guid": "c8d85677-431e-41c7-82b9-4e4d3968f69c",
    "_uuid": "28513ab7-7602-44df-9155-1d0193846316",
    "collapsed": false,
    "execution": {
     "iopub.execute_input": "2025-06-20T19:07:50.895913Z",
     "iopub.status.busy": "2025-06-20T19:07:50.895228Z",
     "iopub.status.idle": "2025-06-20T19:08:07.797628Z",
     "shell.execute_reply": "2025-06-20T19:08:07.796929Z"
    },
    "jupyter": {
     "outputs_hidden": false
    },
    "papermill": {
     "duration": 16.909868,
     "end_time": "2025-06-20T19:08:07.800405",
     "exception": false,
     "start_time": "2025-06-20T19:07:50.890537",
     "status": "completed"
    },
    "tags": []
   },
   "outputs": [
    {
     "name": "stdout",
     "output_type": "stream",
     "text": [
      "\n",
      "--- Distributions of Numerical Features: ---\n"
     ]
    },
    {
     "name": "stderr",
     "output_type": "stream",
     "text": [
      "/usr/local/lib/python3.11/dist-packages/seaborn/_oldcore.py:1119: FutureWarning: use_inf_as_na option is deprecated and will be removed in a future version. Convert inf values to NaN before operating instead.\n",
      "  with pd.option_context('mode.use_inf_as_na', True):\n",
      "/usr/local/lib/python3.11/dist-packages/seaborn/_oldcore.py:1119: FutureWarning: use_inf_as_na option is deprecated and will be removed in a future version. Convert inf values to NaN before operating instead.\n",
      "  with pd.option_context('mode.use_inf_as_na', True):\n",
      "/usr/local/lib/python3.11/dist-packages/seaborn/_oldcore.py:1119: FutureWarning: use_inf_as_na option is deprecated and will be removed in a future version. Convert inf values to NaN before operating instead.\n",
      "  with pd.option_context('mode.use_inf_as_na', True):\n",
      "/usr/local/lib/python3.11/dist-packages/seaborn/_oldcore.py:1119: FutureWarning: use_inf_as_na option is deprecated and will be removed in a future version. Convert inf values to NaN before operating instead.\n",
      "  with pd.option_context('mode.use_inf_as_na', True):\n",
      "/usr/local/lib/python3.11/dist-packages/seaborn/_oldcore.py:1119: FutureWarning: use_inf_as_na option is deprecated and will be removed in a future version. Convert inf values to NaN before operating instead.\n",
      "  with pd.option_context('mode.use_inf_as_na', True):\n",
      "/usr/local/lib/python3.11/dist-packages/seaborn/_oldcore.py:1119: FutureWarning: use_inf_as_na option is deprecated and will be removed in a future version. Convert inf values to NaN before operating instead.\n",
      "  with pd.option_context('mode.use_inf_as_na', True):\n"
     ]
    },
    {
     "data": {
      "image/png": "[encoded data removed]",
      "text/plain": [
       "<Figure size 1500x1000 with 6 Axes>"
      ]
     },
     "metadata": {},
     "output_type": "display_data"
    }
   ],
   "source": [
    "\n",
    "numerical_features = train_df.select_dtypes(include=np.number).columns.tolist()\n",
    "# Exclude 'ID' if present and target 'Fertilizer Name'\n",
    "if 'ID' in numerical_features:\n",
    "    numerical_features.remove('ID')\n",
    "if 'id' in numerical_features:  # Corrected column name based on output\n",
    "    numerical_features.remove('id')\n",
    "\n",
    "\n",
    "print(\"\\n--- Distributions of Numerical Features: ---\")\n",
    "plt.figure(figsize=(15, 10))\n",
    "for i, feature in enumerate(numerical_features):\n",
    "    plt.subplot(3, 4, i + 1)\n",
    "    sns.histplot(train_df[feature], kde=True)\n",
    "    plt.title(f'{feature} Distribution')\n",
    "plt.tight_layout()\n",
    "plt.show()"
   ]
  },
  {
   "cell_type": "markdown",
   "id": "ab1ab4b6",
   "metadata": {
    "_cell_guid": "a2c9e6a5-8eb5-4b3d-9d3f-53974f2f83c1",
    "_uuid": "12ed2caa-059c-48fe-961b-0f02e262b25c",
    "collapsed": false,
    "jupyter": {
     "outputs_hidden": false
    },
    "papermill": {
     "duration": 0.005771,
     "end_time": "2025-06-20T19:08:07.812294",
     "exception": false,
     "start_time": "2025-06-20T19:08:07.806523",
     "status": "completed"
    },
    "tags": []
   },
   "source": [
    "### Observation on Skewness:\n",
    "Features like 'Nitrogen', 'Phosphorus', 'Potassium' might exhibit some skewness. Log transformation or power transformation could be considered if they were highly skewed and a model sensitive to normality was used, but for deep learning, scaling is generally sufficient."
   ]
  },
  {
   "cell_type": "code",
   "execution_count": 4,
   "id": "05934be0",
   "metadata": {
    "_cell_guid": "07c8dd71-f964-4678-9597-4e6688d08938",
    "_uuid": "e7eee53e-34b0-4d0c-be32-59159edb6ed0",
    "collapsed": false,
    "execution": {
     "iopub.execute_input": "2025-06-20T19:08:07.825286Z",
     "iopub.status.busy": "2025-06-20T19:08:07.824698Z",
     "iopub.status.idle": "2025-06-20T19:08:08.289112Z",
     "shell.execute_reply": "2025-06-20T19:08:08.288322Z"
    },
    "jupyter": {
     "outputs_hidden": false
    },
    "papermill": {
     "duration": 0.472311,
     "end_time": "2025-06-20T19:08:08.290392",
     "exception": false,
     "start_time": "2025-06-20T19:08:07.818081",
     "status": "completed"
    },
    "tags": []
   },
   "outputs": [
    {
     "name": "stdout",
     "output_type": "stream",
     "text": [
      "\n",
      "--- Distributions of Categorical Features (if any - Target variable distribution shown below): ---\n"
     ]
    },
    {
     "data": {
      "image/png": "[encoded data removed]",
      "text/plain": [
       "<Figure size 800x600 with 1 Axes>"
      ]
     },
     "metadata": {},
     "output_type": "display_data"
    },
    {
     "name": "stdout",
     "output_type": "stream",
     "text": [
      "\n",
      "Target variable counts:\n",
      "Fertilizer Name\n",
      "14-35-14    114436\n",
      "10-26-26    113887\n",
      "17-17-17    112453\n",
      "28-28       111158\n",
      "20-20       110889\n",
      "DAP          94860\n",
      "Urea         92317\n",
      "Name: count, dtype: int64\n"
     ]
    }
   ],
   "source": [
    "categorical_features = train_df.select_dtypes(include='object').columns.tolist()\n",
    "if 'Fertilizer Name' in categorical_features:\n",
    "    categorical_features.remove('Fertilizer Name') # Target variable\n",
    "\n",
    "print(\"\\n--- Distributions of Categorical Features (if any - Target variable distribution shown below): ---\")\n",
    "\n",
    "# Target Variable Distribution\n",
    "plt.figure(figsize=(8, 6))\n",
    "sns.countplot(y=train_df['Fertilizer Name'], order=train_df['Fertilizer Name'].value_counts().index)\n",
    "plt.title('Distribution of Target Variable: Fertilizer Name')\n",
    "plt.show()\n",
    "print(\"\\nTarget variable counts:\")\n",
    "print(train_df['Fertilizer Name'].value_counts())"
   ]
  },
  {
   "cell_type": "markdown",
   "id": "e5c504d7",
   "metadata": {
    "_cell_guid": "9e69a292-0e21-4f90-bd49-036e3747c7f5",
    "_uuid": "365ec40f-9379-45ec-bfae-ffc50f634c2f",
    "collapsed": false,
    "jupyter": {
     "outputs_hidden": false
    },
    "papermill": {
     "duration": 0.006699,
     "end_time": "2025-06-20T19:08:08.303991",
     "exception": false,
     "start_time": "2025-06-20T19:08:08.297292",
     "status": "completed"
    },
    "tags": []
   },
   "source": [
    "### Observation:\n",
    "The target variable 'Fertilizer Name' appears relatively balanced, which is good for classification.\n",
    "\n",
    "### Correlation Analysis"
   ]
  },
  {
   "cell_type": "code",
   "execution_count": 5,
   "id": "d6d6a1ac",
   "metadata": {
    "_cell_guid": "2da7f466-3018-4a08-b015-6fd21a24e071",
    "_uuid": "4664426c-1c96-472f-99ef-96c3a1437c8f",
    "collapsed": false,
    "execution": {
     "iopub.execute_input": "2025-06-20T19:08:08.317988Z",
     "iopub.status.busy": "2025-06-20T19:08:08.317375Z",
     "iopub.status.idle": "2025-06-20T19:08:08.676445Z",
     "shell.execute_reply": "2025-06-20T19:08:08.675655Z"
    },
    "jupyter": {
     "outputs_hidden": false
    },
    "papermill": {
     "duration": 0.36742,
     "end_time": "2025-06-20T19:08:08.677638",
     "exception": false,
     "start_time": "2025-06-20T19:08:08.310218",
     "status": "completed"
    },
    "tags": []
   },
   "outputs": [
    {
     "name": "stdout",
     "output_type": "stream",
     "text": [
      "\n",
      "--- Correlation Matrix of Numerical Features: ---\n",
      "             Temparature  Humidity  Moisture  Nitrogen  Potassium  Phosphorous\n",
      "Temparature     1.000000  0.001758 -0.001633 -0.006073  -0.009913     0.000298\n",
      "Humidity        0.001758  1.000000  0.003424  0.006502   0.005229     0.002413\n",
      "Moisture       -0.001633  0.003424  1.000000  0.003016  -0.001931    -0.006735\n",
      "Nitrogen       -0.006073  0.006502  0.003016  1.000000   0.000543    -0.005464\n",
      "Potassium      -0.009913  0.005229 -0.001931  0.000543   1.000000     0.000113\n",
      "Phosphorous     0.000298  0.002413 -0.006735 -0.005464   0.000113     1.000000\n"
     ]
    },
    {
     "data": {
      "image/png": "[encoded data removed]",
      "text/plain": [
       "<Figure size 1000x800 with 2 Axes>"
      ]
     },
     "metadata": {},
     "output_type": "display_data"
    }
   ],
   "source": [
    "print(\"\\n--- Correlation Matrix of Numerical Features: ---\")\n",
    "correlation_matrix = train_df[numerical_features].corr()\n",
    "print(correlation_matrix)\n",
    "plt.figure(figsize=(10, 8))\n",
    "sns.heatmap(correlation_matrix, annot=True, cmap='coolwarm', fmt=\".2f\")\n",
    "plt.title('Correlation Matrix of Numerical Features')\n",
    "plt.show()"
   ]
  },
  {
   "cell_type": "markdown",
   "id": "13244ba8",
   "metadata": {
    "_cell_guid": "877ff29b-1670-4f23-b08e-31fe873dc29d",
    "_uuid": "52f71645-6d5e-4e9d-b65b-b3ed5fc43b77",
    "collapsed": false,
    "jupyter": {
     "outputs_hidden": false
    },
    "papermill": {
     "duration": 0.007077,
     "end_time": "2025-06-20T19:08:08.692667",
     "exception": false,
     "start_time": "2025-06-20T19:08:08.685590",
     "status": "completed"
    },
    "tags": []
   },
   "source": [
    "### Justification for assumptions:\n",
    "High correlation between features (e.g., Temperature and Humidity if they were related) could indicate multicollinearity, which might affect traditional linear models but is less of a concern for deep learning models. Correlations with the target (if numerical) would indicate potential importance. Here, we can observe correlations among input features.\n",
    "\n",
    "### Outlier Detection:\n",
    "Outliers can be identified visually from box plots or distribution plots, or statistically using methods like IQR rule or Z-scores. For deep learning, scaling methods often mitigate the impact of outliers to some extent. I will rely on StandardScaler to handle the scale differences and implicitly reduce the relative impact of extreme values.\n",
    "\n",
    "### Data Transformation Hypothesis:\n",
    "Based on the numerical feature distributions, StandardScaler is hypothesized to be necessary for optimal deep learning model performance. Deep learning models, especially those with gradient-based optimization are sensitive to feature scales. Standardizing features (mean=0, variance=1) helps in faster convergence and prevents features with larger scale from dominating the learning process. No specific log transformation is initially planned as the chosen deep learning models are generally robust to non-normal distributions after scaling.\n",
    "\n",
    "### Feature Importance Intuition (based on research on Wikipedia):\n",
    "Intuitively, features like 'Nitrogen', 'Phosphorus', 'Potassium' (N, P, K values) are expected to be highly important as they directly relate to soil fertility and nutrient requirements.\n",
    "'Crop Type', 'Soil Type', 'Temparature', 'Humidity', and 'Moisture' are also likely to be very relevant as environmental and crop-specific factors directly influence fertilizer needs.\n",
    "(Domain knowledge from wikipedia)\n",
    "\n",
    "## 3. Model Building and Training (Deep Learning Focus)"
   ]
  },
  {
   "cell_type": "code",
   "execution_count": 6,
   "id": "142efbfd",
   "metadata": {
    "_cell_guid": "50b7dab4-5d1c-46f2-a761-0a9282114553",
    "_uuid": "8fcd2612-f670-4314-961e-e5ba54530052",
    "collapsed": false,
    "execution": {
     "iopub.execute_input": "2025-06-20T19:08:08.708017Z",
     "iopub.status.busy": "2025-06-20T19:08:08.707721Z",
     "iopub.status.idle": "2025-06-20T19:08:08.763217Z",
     "shell.execute_reply": "2025-06-20T19:08:08.762391Z"
    },
    "jupyter": {
     "outputs_hidden": false
    },
    "papermill": {
     "duration": 0.064818,
     "end_time": "2025-06-20T19:08:08.764643",
     "exception": false,
     "start_time": "2025-06-20T19:08:08.699825",
     "status": "completed"
    },
    "tags": []
   },
   "outputs": [],
   "source": [
    "# Separate features and target\n",
    "X = train_df.drop(['id', 'Fertilizer Name'], axis=1)\n",
    "y = train_df['Fertilizer Name']\n",
    "X_test = test_df.drop('id', axis=1)\n",
    "\n",
    "# Identify numerical and categorical features\n",
    "numerical_cols = X.select_dtypes(include=np.number).columns.tolist()\n",
    "categorical_cols = X.select_dtypes(include='object').columns.tolist()"
   ]
  },
  {
   "cell_type": "markdown",
   "id": "b2907486",
   "metadata": {
    "_cell_guid": "a32b9666-446e-4c9a-b6be-a47c1b0006ec",
    "_uuid": "5151fbd4-e723-46aa-929c-b226c4e07f1f",
    "collapsed": false,
    "jupyter": {
     "outputs_hidden": false
    },
    "papermill": {
     "duration": 0.007257,
     "end_time": "2025-06-20T19:08:08.779627",
     "exception": false,
     "start_time": "2025-06-20T19:08:08.772370",
     "status": "completed"
    },
    "tags": []
   },
   "source": [
    "### Preprocessing Pipeline\n",
    "Numerical features will be scaled using StandardScaler. Categorical features will be One-Hot Encoded."
   ]
  },
  {
   "cell_type": "code",
   "execution_count": 7,
   "id": "1d130548",
   "metadata": {
    "_cell_guid": "c09f8a72-4e41-4ff6-bbc4-4dfc7303819f",
    "_uuid": "57ed68dd-8148-4796-b497-2d836b3e338d",
    "collapsed": false,
    "execution": {
     "iopub.execute_input": "2025-06-20T19:08:08.795357Z",
     "iopub.status.busy": "2025-06-20T19:08:08.795094Z",
     "iopub.status.idle": "2025-06-20T19:08:08.909493Z",
     "shell.execute_reply": "2025-06-20T19:08:08.908767Z"
    },
    "jupyter": {
     "outputs_hidden": false
    },
    "papermill": {
     "duration": 0.123565,
     "end_time": "2025-06-20T19:08:08.910602",
     "exception": false,
     "start_time": "2025-06-20T19:08:08.787037",
     "status": "completed"
    },
    "tags": []
   },
   "outputs": [
    {
     "name": "stdout",
     "output_type": "stream",
     "text": [
      "Number of target classes: 7\n"
     ]
    }
   ],
   "source": [
    "preprocessor = ColumnTransformer(\n",
    "    transformers=[\n",
    "        ('num', StandardScaler(), numerical_cols),\n",
    "        ('cat', OneHotEncoder(handle_unknown='ignore'), categorical_cols)\n",
    "    ])\n",
    "\n",
    "# Encode the target variable\n",
    "label_encoder = LabelEncoder()\n",
    "y_encoded = label_encoder.fit_transform(y)\n",
    "num_classes = len(label_encoder.classes_)\n",
    "print(f\"Number of target classes: {num_classes}\")\n",
    "\n",
    "# MAP@3 Evaluation Metric (Mean Average Precision at 3)\n",
    "# Custom metric function as required by the competition\n",
    "def map_at_3(y_true, y_pred_proba):\n",
    "    \"\"\"\n",
    "    Calculates Mean Average Precision at 3 (MAP@3).\n",
    "    y_true: True labels (encoded integers).\n",
    "    y_pred_proba: Predicted probabilities for each class.\n",
    "    \"\"\"\n",
    "    # Get the top 3 predicted class indices for each sample\n",
    "    # sort in desc order of probability and take top 3 idxs\n",
    "    top_3_indices = np.argsort(y_pred_proba, axis=1)[:, ::-1][:, :3]\n",
    "\n",
    "    num_samples = y_true.shape[0]\n",
    "    avg_precision_sum = 0.0\n",
    "\n",
    "    for i in range(num_samples):\n",
    "        true_label = y_true[i]\n",
    "        predicted_labels_at_k = top_3_indices[i]\n",
    "\n",
    "        precision_at_k = 0.0\n",
    "        num_hits = 0\n",
    "        for k_idx, predicted_label in enumerate(predicted_labels_at_k):\n",
    "            if predicted_label == true_label:\n",
    "                num_hits += 1\n",
    "                # Precision at k: (Number of hits up to k) / k+1\n",
    "                precision_at_k += num_hits / (k_idx + 1)\n",
    "                break # Found the true label, no need to check further in top 3\n",
    "        if num_hits > 0: # Only add if the true label was found in the top 3\n",
    "            avg_precision_sum += precision_at_k\n",
    "\n",
    "    return avg_precision_sum / num_samples if num_samples > 0 else 0.0"
   ]
  },
  {
   "cell_type": "markdown",
   "id": "a86ffc49",
   "metadata": {
    "_cell_guid": "50970117-6184-4617-b5f3-9b8af89ce935",
    "_uuid": "558122e8-7128-45e3-b637-ca2b70b6c5e8",
    "collapsed": false,
    "jupyter": {
     "outputs_hidden": false
    },
    "papermill": {
     "duration": 0.007084,
     "end_time": "2025-06-20T19:08:08.925145",
     "exception": false,
     "start_time": "2025-06-20T19:08:08.918061",
     "status": "completed"
    },
    "tags": []
   },
   "source": [
    "## Model Selection and Definition\n",
    "\n",
    "### Model 1: Simple Multi-Layer Perceptron (MLP)"
   ]
  },
  {
   "cell_type": "code",
   "execution_count": 8,
   "id": "31e57573",
   "metadata": {
    "_cell_guid": "7e32dad3-ea2f-4638-b139-e1fde4194342",
    "_uuid": "6d88af69-e825-4fb1-ae67-16df00007b09",
    "collapsed": false,
    "execution": {
     "iopub.execute_input": "2025-06-20T19:08:08.940812Z",
     "iopub.status.busy": "2025-06-20T19:08:08.940243Z",
     "iopub.status.idle": "2025-06-20T19:08:08.944493Z",
     "shell.execute_reply": "2025-06-20T19:08:08.943999Z"
    },
    "jupyter": {
     "outputs_hidden": false
    },
    "papermill": {
     "duration": 0.013288,
     "end_time": "2025-06-20T19:08:08.945540",
     "exception": false,
     "start_time": "2025-06-20T19:08:08.932252",
     "status": "completed"
    },
    "tags": []
   },
   "outputs": [],
   "source": [
    "def create_mlp_model_1(input_shape, num_classes):\n",
    "    model = Sequential([\n",
    "        Dense(128, activation='relu', input_shape=(input_shape,)),\n",
    "        Dropout(0.3),\n",
    "        Dense(64, activation='relu'),\n",
    "        Dropout(0.3),\n",
    "        Dense(num_classes, activation='softmax')\n",
    "    ])\n",
    "    model.compile(optimizer='adam',\n",
    "                  loss='sparse_categorical_crossentropy',\n",
    "                  metrics=['accuracy']) # Accuracy for monitoring during training\n",
    "    return model"
   ]
  },
  {
   "cell_type": "markdown",
   "id": "669394f2",
   "metadata": {
    "_cell_guid": "04407caa-8894-4990-9100-ece0969d0489",
    "_uuid": "1d2cb301-d1c7-4269-ba96-872c2fed40e3",
    "collapsed": false,
    "jupyter": {
     "outputs_hidden": false
    },
    "papermill": {
     "duration": 0.006971,
     "end_time": "2025-06-20T19:08:08.959965",
     "exception": false,
     "start_time": "2025-06-20T19:08:08.952994",
     "status": "completed"
    },
    "tags": []
   },
   "source": [
    "### Model 2: Deeper Multi-Layer Perceptron (MLP)"
   ]
  },
  {
   "cell_type": "code",
   "execution_count": 9,
   "id": "f7eb488d",
   "metadata": {
    "_cell_guid": "e52bb041-eb4f-4b30-9d37-6b72f94fc096",
    "_uuid": "b7878201-8be3-43ec-bb00-61444d1850bc",
    "collapsed": false,
    "execution": {
     "iopub.execute_input": "2025-06-20T19:08:08.975241Z",
     "iopub.status.busy": "2025-06-20T19:08:08.974977Z",
     "iopub.status.idle": "2025-06-20T19:08:08.979400Z",
     "shell.execute_reply": "2025-06-20T19:08:08.978701Z"
    },
    "jupyter": {
     "outputs_hidden": false
    },
    "papermill": {
     "duration": 0.013505,
     "end_time": "2025-06-20T19:08:08.980525",
     "exception": false,
     "start_time": "2025-06-20T19:08:08.967020",
     "status": "completed"
    },
    "tags": []
   },
   "outputs": [],
   "source": [
    "def create_mlp_model_2(input_shape, num_classes):\n",
    "    model = Sequential([\n",
    "        Dense(256, activation='relu', input_shape=(input_shape,)),\n",
    "        Dropout(0.4),\n",
    "        Dense(128, activation='relu'),\n",
    "        Dropout(0.4),\n",
    "        Dense(64, activation='relu'),\n",
    "        Dropout(0.3),\n",
    "        Dense(num_classes, activation='softmax')\n",
    "    ])\n",
    "    model.compile(optimizer='adam',\n",
    "                  loss='sparse_categorical_crossentropy',\n",
    "                  metrics=['accuracy'])\n",
    "    return model"
   ]
  },
  {
   "cell_type": "markdown",
   "id": "c66f62cc",
   "metadata": {
    "_cell_guid": "290f5ba9-f67e-4ae3-a981-d85772c8d9ba",
    "_uuid": "31f4587f-5c4c-42a1-aac6-e1b194a343b2",
    "collapsed": false,
    "jupyter": {
     "outputs_hidden": false
    },
    "papermill": {
     "duration": 0.007143,
     "end_time": "2025-06-20T19:08:08.994926",
     "exception": false,
     "start_time": "2025-06-20T19:08:08.987783",
     "status": "completed"
    },
    "tags": []
   },
   "source": [
    "### Why these models:\n",
    "MLPs are a natural choice for tabular data as they can learn complex non-linear relationships between features. They are relatively straightforward to implement and interpret. Model 1 is a basic configuration to establish a baseline. Model 2 is slightly deeper and wider with more dropout to potentially capture more intricate patterns and prevent overfitting. The `softmax` activation is used in the output layer for multiclass classification and `sparse_categorical_crossentropy` is suitable as our target is integer-encoded.\n",
    "\n",
    "### Training Strategy: Stratified K-Fold Cross-Validation"
   ]
  },
  {
   "cell_type": "code",
   "execution_count": 10,
   "id": "2a77b8f1",
   "metadata": {
    "_cell_guid": "18bd7507-4ba0-4426-b228-ff1b1dd291a7",
    "_uuid": "e3dd86a5-9766-4325-ac66-6e7fb310fb77",
    "collapsed": false,
    "execution": {
     "iopub.execute_input": "2025-06-20T19:08:09.010681Z",
     "iopub.status.busy": "2025-06-20T19:08:09.010044Z",
     "iopub.status.idle": "2025-06-20T19:08:09.014508Z",
     "shell.execute_reply": "2025-06-20T19:08:09.013814Z"
    },
    "jupyter": {
     "outputs_hidden": false
    },
    "papermill": {
     "duration": 0.013448,
     "end_time": "2025-06-20T19:08:09.015608",
     "exception": false,
     "start_time": "2025-06-20T19:08:09.002160",
     "status": "completed"
    },
    "tags": []
   },
   "outputs": [],
   "source": [
    "N_SPLITS = 5\n",
    "skf = StratifiedKFold(n_splits=N_SPLITS, shuffle=True, random_state=42)\n",
    "\n",
    "# Callbacks for training\n",
    "early_stopping = EarlyStopping(monitor='val_loss', patience=15, restore_best_weights=True)\n",
    "reduce_lr = ReduceLROnPlateau(monitor='val_loss', factor=0.2, patience=8, min_lr=0.00001, verbose=1)\n",
    "\n",
    "models_results = {}\n",
    "all_test_preds_proba_model1 = []\n",
    "all_test_preds_proba_model2 = []"
   ]
  },
  {
   "cell_type": "markdown",
   "id": "c373d55d",
   "metadata": {
    "_cell_guid": "485a38c3-bf0c-491d-bb7c-e5bcbcbb847b",
    "_uuid": "46117a71-01c5-458f-a620-590611baf342",
    "collapsed": false,
    "jupyter": {
     "outputs_hidden": false
    },
    "papermill": {
     "duration": 0.007209,
     "end_time": "2025-06-20T19:08:09.030048",
     "exception": false,
     "start_time": "2025-06-20T19:08:09.022839",
     "status": "completed"
    },
    "tags": []
   },
   "source": [
    "## Hyperparameter Optimization (Manual / Experimentation)\n",
    "For this script, ***hyperparameter tuning*** is demonstrated through varying parameters between model 1 and model 2 (e.g., number of layers, units, dropout rates).\n",
    "A more exhaustive search could involve Keras Tuner or GridSearchCV with Keras wrappers. Search space for manual tuning (e.g., for `Dense` layers):\n",
    "- Number of layers: 2 to 4\n",
    "- Units per layer: 64, 128, 256\n",
    "- Dropout rates: 0.2, 0.3, 0.4\n",
    "- Optimizer: 'adam' (chosen for its good default performance)\n",
    "- Learning Rate: Managed by ReduceLROnPlateau\n",
    "- Batch size: 32 (a common good starting point)\n",
    "- Epochs: 100 (with EarlyStopping for efficiency)"
   ]
  },
  {
   "cell_type": "code",
   "execution_count": 11,
   "id": "64a2bf87",
   "metadata": {
    "_cell_guid": "b80a5c63-4d12-4a6d-bbd8-21a58557f686",
    "_uuid": "ca123da6-78ae-45ea-a7e5-dd9ba08629fa",
    "collapsed": false,
    "execution": {
     "iopub.execute_input": "2025-06-20T19:08:09.045737Z",
     "iopub.status.busy": "2025-06-20T19:08:09.045253Z",
     "iopub.status.idle": "2025-06-21T04:52:53.560698Z",
     "shell.execute_reply": "2025-06-21T04:52:53.559913Z"
    },
    "jupyter": {
     "outputs_hidden": false
    },
    "papermill": {
     "duration": 35084.524919,
     "end_time": "2025-06-21T04:52:53.562124",
     "exception": false,
     "start_time": "2025-06-20T19:08:09.037205",
     "status": "completed"
    },
    "tags": []
   },
   "outputs": [
    {
     "name": "stdout",
     "output_type": "stream",
     "text": [
      "\n",
      "Training Models with 5-Fold Stratified Cross-Validation...\n",
      "\n",
      "--- Fold 1/5 ---\n",
      "Training Model 1 (Simple MLP)...\n"
     ]
    },
    {
     "name": "stderr",
     "output_type": "stream",
     "text": [
      "/usr/local/lib/python3.11/dist-packages/keras/src/layers/core/dense.py:87: UserWarning: Do not pass an `input_shape`/`input_dim` argument to a layer. When using Sequential models, prefer using an `Input(shape)` object as the first layer in the model instead.\n",
      "  super().__init__(activity_regularizer=activity_regularizer, **kwargs)\n",
      "I0000 00:00:1750446491.084980      19 gpu_device.cc:2022] Created device /job:localhost/replica:0/task:0/device:GPU:0 with 15513 MB memory:  -> device: 0, name: Tesla P100-PCIE-16GB, pci bus id: 0000:00:04.0, compute capability: 6.0\n",
      "WARNING: All log messages before absl::InitializeLog() is called are written to STDERR\n",
      "I0000 00:00:1750446493.949707      64 service.cc:148] XLA service 0x7aae5c00aae0 initialized for platform CUDA (this does not guarantee that XLA will be used). Devices:\n",
      "I0000 00:00:1750446493.950272      64 service.cc:156]   StreamExecutor device (0): Tesla P100-PCIE-16GB, Compute Capability 6.0\n",
      "I0000 00:00:1750446494.159694      64 cuda_dnn.cc:529] Loaded cuDNN version 90300\n",
      "I0000 00:00:1750446495.608912      64 device_compiler.h:188] Compiled cluster using XLA!  This line is logged at most once for the lifetime of the process.\n"
     ]
    },
    {
     "name": "stdout",
     "output_type": "stream",
     "text": [
      "\n",
      "Epoch 19: ReduceLROnPlateau reducing learning rate to 0.00020000000949949026.\n",
      "\n",
      "Epoch 50: ReduceLROnPlateau reducing learning rate to 4.0000001899898055e-05.\n",
      "\n",
      "Epoch 61: ReduceLROnPlateau reducing learning rate to 1e-05.\n",
      "Model 1 - Fold 1 Validation Accuracy: 0.1614\n",
      "\u001b[1m4688/4688\u001b[0m \u001b[32m━━━━━━━━━━━━━━━━━━━━\u001b[0m\u001b[37m\u001b[0m \u001b[1m6s\u001b[0m 1ms/step\n",
      "Model 1 - Fold 1 MAP@3: 0.2895\n",
      "\u001b[1m7813/7813\u001b[0m \u001b[32m━━━━━━━━━━━━━━━━━━━━\u001b[0m\u001b[37m\u001b[0m \u001b[1m9s\u001b[0m 1ms/step\n",
      "Training Model 2 (Deeper MLP)...\n",
      "\n",
      "Epoch 14: ReduceLROnPlateau reducing learning rate to 0.00020000000949949026.\n",
      "\n",
      "Epoch 23: ReduceLROnPlateau reducing learning rate to 4.0000001899898055e-05.\n",
      "\n",
      "Epoch 31: ReduceLROnPlateau reducing learning rate to 1e-05.\n",
      "Model 2 - Fold 1 Validation Accuracy: 0.1544\n",
      "\u001b[1m4688/4688\u001b[0m \u001b[32m━━━━━━━━━━━━━━━━━━━━\u001b[0m\u001b[37m\u001b[0m \u001b[1m6s\u001b[0m 1ms/step\n",
      "Model 2 - Fold 1 MAP@3: 0.2801\n",
      "\u001b[1m7813/7813\u001b[0m \u001b[32m━━━━━━━━━━━━━━━━━━━━\u001b[0m\u001b[37m\u001b[0m \u001b[1m9s\u001b[0m 1ms/step\n",
      "\n",
      "--- Fold 2/5 ---\n",
      "Training Model 1 (Simple MLP)...\n"
     ]
    },
    {
     "name": "stderr",
     "output_type": "stream",
     "text": [
      "/usr/local/lib/python3.11/dist-packages/keras/src/layers/core/dense.py:87: UserWarning: Do not pass an `input_shape`/`input_dim` argument to a layer. When using Sequential models, prefer using an `Input(shape)` object as the first layer in the model instead.\n",
      "  super().__init__(activity_regularizer=activity_regularizer, **kwargs)\n"
     ]
    },
    {
     "name": "stdout",
     "output_type": "stream",
     "text": [
      "\n",
      "Epoch 11: ReduceLROnPlateau reducing learning rate to 0.00020000000949949026.\n",
      "\n",
      "Epoch 43: ReduceLROnPlateau reducing learning rate to 4.0000001899898055e-05.\n",
      "\n",
      "Epoch 52: ReduceLROnPlateau reducing learning rate to 1e-05.\n",
      "Model 1 - Fold 2 Validation Accuracy: 0.1629\n",
      "\u001b[1m4688/4688\u001b[0m \u001b[32m━━━━━━━━━━━━━━━━━━━━\u001b[0m\u001b[37m\u001b[0m \u001b[1m6s\u001b[0m 1ms/step\n",
      "Model 1 - Fold 2 MAP@3: 0.2916\n",
      "\u001b[1m7813/7813\u001b[0m \u001b[32m━━━━━━━━━━━━━━━━━━━━\u001b[0m\u001b[37m\u001b[0m \u001b[1m9s\u001b[0m 1ms/step\n",
      "Training Model 2 (Deeper MLP)...\n",
      "\n",
      "Epoch 16: ReduceLROnPlateau reducing learning rate to 0.00020000000949949026.\n",
      "\n",
      "Epoch 26: ReduceLROnPlateau reducing learning rate to 4.0000001899898055e-05.\n",
      "\n",
      "Epoch 34: ReduceLROnPlateau reducing learning rate to 1e-05.\n",
      "Model 2 - Fold 2 Validation Accuracy: 0.1530\n",
      "\u001b[1m4688/4688\u001b[0m \u001b[32m━━━━━━━━━━━━━━━━━━━━\u001b[0m\u001b[37m\u001b[0m \u001b[1m6s\u001b[0m 1ms/step\n",
      "Model 2 - Fold 2 MAP@3: 0.2792\n",
      "\u001b[1m7813/7813\u001b[0m \u001b[32m━━━━━━━━━━━━━━━━━━━━\u001b[0m\u001b[37m\u001b[0m \u001b[1m9s\u001b[0m 1ms/step\n",
      "\n",
      "--- Fold 3/5 ---\n",
      "Training Model 1 (Simple MLP)...\n"
     ]
    },
    {
     "name": "stderr",
     "output_type": "stream",
     "text": [
      "/usr/local/lib/python3.11/dist-packages/keras/src/layers/core/dense.py:87: UserWarning: Do not pass an `input_shape`/`input_dim` argument to a layer. When using Sequential models, prefer using an `Input(shape)` object as the first layer in the model instead.\n",
      "  super().__init__(activity_regularizer=activity_regularizer, **kwargs)\n"
     ]
    },
    {
     "name": "stdout",
     "output_type": "stream",
     "text": [
      "\n",
      "Epoch 22: ReduceLROnPlateau reducing learning rate to 0.00020000000949949026.\n",
      "\n",
      "Epoch 34: ReduceLROnPlateau reducing learning rate to 4.0000001899898055e-05.\n",
      "\n",
      "Epoch 51: ReduceLROnPlateau reducing learning rate to 1e-05.\n",
      "Model 1 - Fold 3 Validation Accuracy: 0.1614\n",
      "\u001b[1m4688/4688\u001b[0m \u001b[32m━━━━━━━━━━━━━━━━━━━━\u001b[0m\u001b[37m\u001b[0m \u001b[1m6s\u001b[0m 1ms/step\n",
      "Model 1 - Fold 3 MAP@3: 0.2893\n",
      "\u001b[1m7813/7813\u001b[0m \u001b[32m━━━━━━━━━━━━━━━━━━━━\u001b[0m\u001b[37m\u001b[0m \u001b[1m9s\u001b[0m 1ms/step\n",
      "Training Model 2 (Deeper MLP)...\n",
      "\n",
      "Epoch 12: ReduceLROnPlateau reducing learning rate to 0.00020000000949949026.\n",
      "\n",
      "Epoch 27: ReduceLROnPlateau reducing learning rate to 4.0000001899898055e-05.\n",
      "\n",
      "Epoch 36: ReduceLROnPlateau reducing learning rate to 1e-05.\n",
      "Model 2 - Fold 3 Validation Accuracy: 0.1534\n",
      "\u001b[1m4688/4688\u001b[0m \u001b[32m━━━━━━━━━━━━━━━━━━━━\u001b[0m\u001b[37m\u001b[0m \u001b[1m6s\u001b[0m 1ms/step\n",
      "Model 2 - Fold 3 MAP@3: 0.2800\n",
      "\u001b[1m7813/7813\u001b[0m \u001b[32m━━━━━━━━━━━━━━━━━━━━\u001b[0m\u001b[37m\u001b[0m \u001b[1m9s\u001b[0m 1ms/step\n",
      "\n",
      "--- Fold 4/5 ---\n",
      "Training Model 1 (Simple MLP)...\n"
     ]
    },
    {
     "name": "stderr",
     "output_type": "stream",
     "text": [
      "/usr/local/lib/python3.11/dist-packages/keras/src/layers/core/dense.py:87: UserWarning: Do not pass an `input_shape`/`input_dim` argument to a layer. When using Sequential models, prefer using an `Input(shape)` object as the first layer in the model instead.\n",
      "  super().__init__(activity_regularizer=activity_regularizer, **kwargs)\n"
     ]
    },
    {
     "name": "stdout",
     "output_type": "stream",
     "text": [
      "\n",
      "Epoch 11: ReduceLROnPlateau reducing learning rate to 0.00020000000949949026.\n",
      "\n",
      "Epoch 37: ReduceLROnPlateau reducing learning rate to 4.0000001899898055e-05.\n",
      "\n",
      "Epoch 48: ReduceLROnPlateau reducing learning rate to 1e-05.\n",
      "Model 1 - Fold 4 Validation Accuracy: 0.1622\n",
      "\u001b[1m4688/4688\u001b[0m \u001b[32m━━━━━━━━━━━━━━━━━━━━\u001b[0m\u001b[37m\u001b[0m \u001b[1m6s\u001b[0m 1ms/step\n",
      "Model 1 - Fold 4 MAP@3: 0.2905\n",
      "\u001b[1m7813/7813\u001b[0m \u001b[32m━━━━━━━━━━━━━━━━━━━━\u001b[0m\u001b[37m\u001b[0m \u001b[1m9s\u001b[0m 1ms/step\n",
      "Training Model 2 (Deeper MLP)...\n",
      "\n",
      "Epoch 14: ReduceLROnPlateau reducing learning rate to 0.00020000000949949026.\n",
      "\n",
      "Epoch 23: ReduceLROnPlateau reducing learning rate to 4.0000001899898055e-05.\n",
      "\n",
      "Epoch 32: ReduceLROnPlateau reducing learning rate to 1e-05.\n",
      "Model 2 - Fold 4 Validation Accuracy: 0.1530\n",
      "\u001b[1m4688/4688\u001b[0m \u001b[32m━━━━━━━━━━━━━━━━━━━━\u001b[0m\u001b[37m\u001b[0m \u001b[1m6s\u001b[0m 1ms/step\n",
      "Model 2 - Fold 4 MAP@3: 0.2794\n",
      "\u001b[1m7813/7813\u001b[0m \u001b[32m━━━━━━━━━━━━━━━━━━━━\u001b[0m\u001b[37m\u001b[0m \u001b[1m9s\u001b[0m 1ms/step\n",
      "\n",
      "--- Fold 5/5 ---\n",
      "Training Model 1 (Simple MLP)...\n"
     ]
    },
    {
     "name": "stderr",
     "output_type": "stream",
     "text": [
      "/usr/local/lib/python3.11/dist-packages/keras/src/layers/core/dense.py:87: UserWarning: Do not pass an `input_shape`/`input_dim` argument to a layer. When using Sequential models, prefer using an `Input(shape)` object as the first layer in the model instead.\n",
      "  super().__init__(activity_regularizer=activity_regularizer, **kwargs)\n"
     ]
    },
    {
     "name": "stdout",
     "output_type": "stream",
     "text": [
      "\n",
      "Epoch 18: ReduceLROnPlateau reducing learning rate to 0.00020000000949949026.\n",
      "\n",
      "Epoch 44: ReduceLROnPlateau reducing learning rate to 4.0000001899898055e-05.\n",
      "\n",
      "Epoch 53: ReduceLROnPlateau reducing learning rate to 1e-05.\n",
      "Model 1 - Fold 5 Validation Accuracy: 0.1617\n",
      "\u001b[1m4688/4688\u001b[0m \u001b[32m━━━━━━━━━━━━━━━━━━━━\u001b[0m\u001b[37m\u001b[0m \u001b[1m6s\u001b[0m 1ms/step\n",
      "Model 1 - Fold 5 MAP@3: 0.2898\n",
      "\u001b[1m7813/7813\u001b[0m \u001b[32m━━━━━━━━━━━━━━━━━━━━\u001b[0m\u001b[37m\u001b[0m \u001b[1m9s\u001b[0m 1ms/step\n",
      "Training Model 2 (Deeper MLP)...\n",
      "\n",
      "Epoch 13: ReduceLROnPlateau reducing learning rate to 0.00020000000949949026.\n",
      "\n",
      "Epoch 23: ReduceLROnPlateau reducing learning rate to 4.0000001899898055e-05.\n",
      "\n",
      "Epoch 32: ReduceLROnPlateau reducing learning rate to 1e-05.\n",
      "Model 2 - Fold 5 Validation Accuracy: 0.1530\n",
      "\u001b[1m4688/4688\u001b[0m \u001b[32m━━━━━━━━━━━━━━━━━━━━\u001b[0m\u001b[37m\u001b[0m \u001b[1m6s\u001b[0m 1ms/step\n",
      "Model 2 - Fold 5 MAP@3: 0.2794\n",
      "\u001b[1m7813/7813\u001b[0m \u001b[32m━━━━━━━━━━━━━━━━━━━━\u001b[0m\u001b[37m\u001b[0m \u001b[1m9s\u001b[0m 1ms/step\n"
     ]
    }
   ],
   "source": [
    "print(f\"\\nTraining Models with {N_SPLITS}-Fold Stratified Cross-Validation...\")\n",
    "\n",
    "for fold, (train_idx, val_idx) in enumerate(skf.split(X, y_encoded)):\n",
    "    print(f\"\\n--- Fold {fold+1}/{N_SPLITS} ---\")\n",
    "\n",
    "    X_train_fold, X_val_fold = X.iloc[train_idx], X.iloc[val_idx]\n",
    "    y_train_fold, y_val_fold = y_encoded[train_idx], y_encoded[val_idx]\n",
    "\n",
    "    # Apply preprocessing pipeline\n",
    "    X_train_processed = preprocessor.fit_transform(X_train_fold)\n",
    "    X_val_processed = preprocessor.transform(X_val_fold)\n",
    "    # Important: Transform test data using the preprocessor fitted on the *training data of the current fold*\n",
    "    X_test_processed = preprocessor.transform(X_test) \n",
    "\n",
    "    input_shape = X_train_processed.shape[1]\n",
    "\n",
    "    print(\"Training Model 1 (Simple MLP)...\")\n",
    "    model1 = create_mlp_model_1(input_shape, num_classes)\n",
    "    history1 = model1.fit(X_train_processed, y_train_fold,\n",
    "                          epochs=100,\n",
    "                          batch_size=32,\n",
    "                          validation_data=(X_val_processed, y_val_fold),\n",
    "                          callbacks=[early_stopping, reduce_lr],\n",
    "                          verbose=0)\n",
    "\n",
    "    val_loss_model1, val_acc_model1 = model1.evaluate(X_val_processed, y_val_fold, verbose=0)\n",
    "    print(f\"Model 1 - Fold {fold+1} Validation Accuracy: {val_acc_model1:.4f}\")\n",
    "\n",
    "    # Predict probabilities for validation set for MAP@3 calculation\n",
    "    y_val_pred_proba_model1 = model1.predict(X_val_processed)\n",
    "    fold_map3_model1 = map_at_3(y_val_fold, y_val_pred_proba_model1)\n",
    "    print(f\"Model 1 - Fold {fold+1} MAP@3: {fold_map3_model1:.4f}\")\n",
    "\n",
    "    # Predict probabilities for test set for ensemble/average prediction later\n",
    "    test_preds_proba_model1 = model1.predict(X_test_processed)\n",
    "    all_test_preds_proba_model1.append(test_preds_proba_model1)\n",
    "\n",
    "    # --- Model 2 Training ---\n",
    "    print(\"Training Model 2 (Deeper MLP)...\")\n",
    "    model2 = create_mlp_model_2(input_shape, num_classes)\n",
    "    history2 = model2.fit(X_train_processed, y_train_fold,\n",
    "                          epochs=100,\n",
    "                          batch_size=32,\n",
    "                          validation_data=(X_val_processed, y_val_fold),\n",
    "                          callbacks=[early_stopping, reduce_lr],\n",
    "                          verbose=0)\n",
    "\n",
    "    val_loss_model2, val_acc_model2 = model2.evaluate(X_val_processed, y_val_fold, verbose=0)\n",
    "    print(f\"Model 2 - Fold {fold+1} Validation Accuracy: {val_acc_model2:.4f}\")\n",
    "\n",
    "    y_val_pred_proba_model2 = model2.predict(X_val_processed)\n",
    "    fold_map3_model2 = map_at_3(y_val_fold, y_val_pred_proba_model2)\n",
    "    print(f\"Model 2 - Fold {fold+1} MAP@3: {fold_map3_model2:.4f}\")\n",
    "\n",
    "    test_preds_proba_model2 = model2.predict(X_test_processed)\n",
    "    all_test_preds_proba_model2.append(test_preds_proba_model2)\n",
    "\n",
    "    if 'Model 1 MAP@3' not in models_results:\n",
    "        models_results['Model 1 MAP@3'] = []\n",
    "        models_results['Model 2 MAP@3'] = []\n",
    "    models_results['Model 1 MAP@3'].append(fold_map3_model1)\n",
    "    models_results['Model 2 MAP@3'].append(fold_map3_model2)"
   ]
  },
  {
   "cell_type": "markdown",
   "id": "ee4eca0f",
   "metadata": {
    "_cell_guid": "af78125a-6521-49ae-88bc-5510e1d765ee",
    "_uuid": "cfe80bab-229b-4139-91b1-c1f4a99c2418",
    "collapsed": false,
    "jupyter": {
     "outputs_hidden": false
    },
    "papermill": {
     "duration": 0.122183,
     "end_time": "2025-06-21T04:52:53.808517",
     "exception": false,
     "start_time": "2025-06-21T04:52:53.686334",
     "status": "completed"
    },
    "tags": []
   },
   "source": [
    "## 4. Results and Discussion/Conclusion"
   ]
  },
  {
   "cell_type": "code",
   "execution_count": 12,
   "id": "3cebbd14",
   "metadata": {
    "_cell_guid": "66b1f076-15ea-4b99-a847-cd6db845946b",
    "_uuid": "f7f09b4f-08eb-4edb-ae27-19729fbb5c12",
    "collapsed": false,
    "execution": {
     "iopub.execute_input": "2025-06-21T04:52:54.051448Z",
     "iopub.status.busy": "2025-06-21T04:52:54.051172Z",
     "iopub.status.idle": "2025-06-21T04:52:54.057310Z",
     "shell.execute_reply": "2025-06-21T04:52:54.056532Z"
    },
    "jupyter": {
     "outputs_hidden": false
    },
    "papermill": {
     "duration": 0.129952,
     "end_time": "2025-06-21T04:52:54.058438",
     "exception": false,
     "start_time": "2025-06-21T04:52:53.928486",
     "status": "completed"
    },
    "tags": []
   },
   "outputs": [
    {
     "name": "stdout",
     "output_type": "stream",
     "text": [
      "\n",
      "--- Results and Discussion ---\n",
      "\n",
      "Average MAP@3 for Model 1 (Simple MLP) across 5 folds: 0.2901\n",
      "Average MAP@3 for Model 2 (Deeper MLP) across 5 folds: 0.2796\n",
      "\n",
      "Model Comparison:\n",
      "Model 1 MAP@3 scores per fold: ['0.2895', '0.2916', '0.2893', '0.2905', '0.2898']\n",
      "Model 2 MAP@3 scores per fold: ['0.2801', '0.2792', '0.2800', '0.2794', '0.2794']\n",
      "\n",
      "Model 1 (Simple MLP) performed better on average.\n"
     ]
    }
   ],
   "source": [
    "print(\"\\n--- Results and Discussion ---\")\n",
    "\n",
    "# Calculate average MAP@3\n",
    "avg_map3_model1 = np.mean(models_results['Model 1 MAP@3'])\n",
    "avg_map3_model2 = np.mean(models_results['Model 2 MAP@3'])\n",
    "\n",
    "print(f\"\\nAverage MAP@3 for Model 1 (Simple MLP) across {N_SPLITS} folds: {avg_map3_model1:.4f}\")\n",
    "print(f\"Average MAP@3 for Model 2 (Deeper MLP) across {N_SPLITS} folds: {avg_map3_model2:.4f}\")\n",
    "\n",
    "# Model Comparison\n",
    "print(\"\\nModel Comparison:\")\n",
    "print(f\"Model 1 MAP@3 scores per fold: {[f'{score:.4f}' for score in models_results['Model 1 MAP@3']]}\")\n",
    "print(f\"Model 2 MAP@3 scores per fold: {[f'{score:.4f}' for score in models_results['Model 2 MAP@3']]}\")\n",
    "\n",
    "if avg_map3_model1 > avg_map3_model2:\n",
    "    print(\"\\nModel 1 (Simple MLP) performed better on average.\")\n",
    "elif avg_map3_model2 > avg_map3_model1:\n",
    "    print(\"\\nModel 2 (Deeper MLP) performed better on average.\")\n",
    "else:\n",
    "    print(\"\\nBoth models performed similarly on average.\")"
   ]
  },
  {
   "cell_type": "markdown",
   "id": "4511a687",
   "metadata": {
    "_cell_guid": "f7235e41-eecc-4f6d-9e80-cc8590adf2a7",
    "_uuid": "d9eecd46-05db-4f8d-ae65-366697015f41",
    "collapsed": false,
    "jupyter": {
     "outputs_hidden": false
    },
    "papermill": {
     "duration": 0.11951,
     "end_time": "2025-06-21T04:52:54.298803",
     "exception": false,
     "start_time": "2025-06-21T04:52:54.179293",
     "status": "completed"
    },
    "tags": []
   },
   "source": [
    "### Strengths and Weaknesses:\n",
    "\n",
    "**Model 1 (Simple MLP):**\n",
    "- **Strengths:** Simpler, faster to train, less prone to overfitting on smaller datasets.\n",
    "- **Weaknesses:** May not capture very complex patterns as effectively as deeper models.\n",
    "\n",
    "**Model 2 (Deeper MLP):**\n",
    "- **Strengths:** Potentially capable of learning more complex representations, potentially higher accuracy on complex datasets.\n",
    "- **Weaknesses:** Longer training time, higher risk of overfitting if not properly regularized (e.g., with more dropout).\n",
    "\n",
    "### Error Analysis:\n",
    "To perform a detailed error analysis, one would typically examine misclassified samples from the validation set. Key questions would include: Are certain fertilizer types consistently misclassified? Are there patterns in the features of misclassified samples (e.g., specific crop types, extreme environmental conditions)?\n",
    "Without explicit misclassification examples here, we can infer that errors might arise from:\n",
    "- Ambiguous feature values where multiple fertilizers are equally plausible.\n",
    "- Boundary cases between different fertilizer types.\n",
    "- Insufficient representation of rare fertilizer combinations in the training data.\n",
    "\n",
    "### Limitations and Future Work:\n",
    "\n",
    "**Current Limitations:**\n",
    "- The models are relatively simple MLPs. While effective for tabular data, more advanced architectures could be explored.\n",
    "- Feature engineering was not extensively performed. More derived features (e.g., ratios, polynomial features) could be beneficial.\n",
    "- Hyperparameter tuning was manual/experiential. Automated tuning (e.g., Keras Tuner, Optuna) could find better configurations.\n",
    "- Ensemble methods (e.g., stacking predictions from different folds/models) were not explicitly used for the final prediction process, though averaging test predictions approximates an ensemble.\n",
    "- No external data was incorporated, which might provide more context for fertilizer recommendations.\n",
    "\n",
    "**Potential Improvements / Next Steps:**\n",
    "- **More Complex Architectures:** Explore Residual Networks for tabular data or attention mechanisms.\n",
    "- **Advanced Feature Engineering:** Create interaction terms, polynomial features or domain-specific features related to plant physiology or soil science.\n",
    "- **Ensemble Methods:** Implement sophisticated ensembling of multiple diverse models (e.g. XGBoost LightGBM and deep learning models with which I don't have experience yet but heard a lot of positive).\n",
    "- **Robust Outlier Handling:** Explicitly deal with outliers using robust scaling or outlier removal techniques if they significantly impact performance.\n",
    "- **Augment Data:** If possible, synthesize new data points, especially for under-represented classes.\n",
    "- **Explore Other Metrics:** While MAP@3 is primary, other metrcis could provide deeper insights.\n",
    "- **Interpretability:** Use further advanced techniques to understand feature importance for individual predictions.\n",
    "\n",
    "**Conclusion:**\n",
    "This project successfully developed and evaluated Deep Learning models for predicting optimal fertilizer types, achieving competitive MAP@3 scores. The preprocessing pipeline effectively handled numerical scaling and categorical encoding. Stratified K-Fold cross-validation ensured robust evaluation. The results demonstrate the feasibility of using MLPs for this multiclass tabular classification problem. While the current models provide a strong baseline, there's significant scope for improvement through advanced feature engineering, more complex architectures, and comprehensive hyperparameter optimization. The insights gained from this project can contribute to more efficient and sustainable agricultural practices.\n",
    "\n",
    "## 5. Submission Generation"
   ]
  },
  {
   "cell_type": "code",
   "execution_count": 13,
   "id": "46b28910",
   "metadata": {
    "_cell_guid": "28d07ce5-3e16-4f3e-b9b4-ca669c077090",
    "_uuid": "dc2a03ae-ffba-43d1-9564-91a0f4116881",
    "collapsed": false,
    "execution": {
     "iopub.execute_input": "2025-06-21T04:52:54.560201Z",
     "iopub.status.busy": "2025-06-21T04:52:54.559687Z",
     "iopub.status.idle": "2025-06-21T04:52:55.235804Z",
     "shell.execute_reply": "2025-06-21T04:52:55.235033Z"
    },
    "jupyter": {
     "outputs_hidden": false
    },
    "papermill": {
     "duration": 0.812428,
     "end_time": "2025-06-21T04:52:55.236929",
     "exception": false,
     "start_time": "2025-06-21T04:52:54.424501",
     "status": "completed"
    },
    "tags": []
   },
   "outputs": [
    {
     "name": "stdout",
     "output_type": "stream",
     "text": [
      "Submission file 'submission.csv' generated successfully!\n",
      "\n",
      "Sample of generated submission file:\n",
      "       ID             Fertilizer Name\n",
      "0  750000     10-26-26 14-35-14 28-28\n",
      "1  750001  14-35-14 10-26-26 17-17-17\n",
      "2  750002  14-35-14 10-26-26 17-17-17\n",
      "3  750003     14-35-14 10-26-26 28-28\n",
      "4  750004  17-17-17 14-35-14 10-26-26\n"
     ]
    }
   ],
   "source": [
    "# vAverage probabilities from all folds for both models\n",
    "# This acts as a simple ensemble strategy\n",
    "ensemble_test_preds_proba = (np.mean(all_test_preds_proba_model1, axis=0) +\n",
    "                             np.mean(all_test_preds_proba_model2, axis=0)) / 2\n",
    "\n",
    "# Get top 3 predicts for each sample\n",
    "top_3_indices = np.argsort(ensemble_test_preds_proba, axis=1)[:, ::-1][:, :3]\n",
    "\n",
    "# Convert idxs back to original fertilizer names\n",
    "predicted_fertilizer_names = label_encoder.inverse_transform(top_3_indices.flatten()).reshape(-1, 3)\n",
    "\n",
    "# Format for submission\n",
    "submission_predictions = [' '.join(row) for row in predicted_fertilizer_names]\n",
    "\n",
    "# Create the submission DataFrame with the correct column name\n",
    "submission_df = pd.DataFrame({'ID': test_df['id'], 'Fertilizer Name': submission_predictions})\n",
    "\n",
    "# Save to CSV\n",
    "submission_df.to_csv('submission.csv', index=False)\n",
    "print(\"Submission file 'submission.csv' generated successfully!\")\n",
    "print(\"\\nSample of generated submission file:\")\n",
    "print(submission_df.head())"
   ]
  },
  {
   "cell_type": "markdown",
   "id": "a88a0fef",
   "metadata": {
    "_cell_guid": "18030a47-d1bc-4749-8904-08b89a3e1c47",
    "_uuid": "3ccac06f-3835-4587-900a-c52ac085833c",
    "collapsed": false,
    "jupyter": {
     "outputs_hidden": false
    },
    "papermill": {
     "duration": 0.12413,
     "end_time": "2025-06-21T04:52:55.482306",
     "exception": false,
     "start_time": "2025-06-21T04:52:55.358176",
     "status": "completed"
    },
    "tags": []
   },
   "source": []
  }
 ],
 "metadata": {
  "kaggle": {
   "accelerator": "gpu",
   "dataSources": [
    {
     "databundleVersionId": 12184666,
     "sourceId": 91717,
     "sourceType": "competition"
    }
   ],
   "dockerImageVersionId": 31041,
   "isGpuEnabled": true,
   "isInternetEnabled": true,
   "language": "python",
   "sourceType": "notebook"
  },
  "kernelspec": {
   "display_name": "Python 3",
   "language": "python",
   "name": "python3"
  },
  "language_info": {
   "codemirror_mode": {
    "name": "ipython",
    "version": 3
   },
   "file_extension": ".py",
   "mimetype": "text/x-python",
   "name": "python",
   "nbconvert_exporter": "python",
   "pygments_lexer": "ipython3",
   "version": "3.11.11"
  },
  "papermill": {
   "default_parameters": {},
   "duration": 35129.63593,
   "end_time": "2025-06-21T04:52:58.571449",
   "environment_variables": {},
   "exception": null,
   "input_path": "__notebook__.ipynb",
   "output_path": "__notebook__.ipynb",
   "parameters": {},
   "start_time": "2025-06-20T19:07:28.935519",
   "version": "2.6.0"
  }
 },
 "nbformat": 4,
 "nbformat_minor": 5
}
